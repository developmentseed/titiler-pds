{
 "cells": [
  {
   "cell_type": "markdown",
   "metadata": {},
   "source": [
    "## Large scale NAIP mosaic\n",
    "\n",
    "This notebook aims to show how we can use dynamoDB backends to store large scale mosaic (US wide) for large scale dataset as NAIP.\n",
    "\n",
    "Checkout previous work by Kyle Barron: https://github.com/kylebarron/naip-cogeo-mosaic"
   ]
  },
  {
   "cell_type": "code",
   "execution_count": null,
   "metadata": {
    "tags": []
   },
   "outputs": [],
   "source": [
    "import requests\n",
    "from ipyleaflet import Map, basemaps, TileLayer, basemap_to_tiles, GeoJSON\n",
    "\n",
    "from cogeo_mosaic.backends import MosaicBackend"
   ]
  },
  {
   "cell_type": "code",
   "execution_count": null,
   "metadata": {},
   "outputs": [],
   "source": [
    "# First we need to create a Mosaic\n",
    "# Thanks to Kyle Barron, most of the job is already done. We just need to download one of his mosaic and upload it to our DynamoDB Table\n",
    "url = \"https://raw.githubusercontent.com/kylebarron/naip-cogeo-mosaic/master/data/naip_2016_2018_mosaic.json.gz\"\n",
    "\n",
    "# Important, we are using a new version of cogeo-mosaic to store and read mosaicJSON documents (>=3.0.0a15)\n",
    "# See: https://github.com/developmentseed/cogeo-mosaic/pull/127\n",
    "#\n",
    "# Because the Naip mosaic is > 60Mb, it's way more efficient to use dynamoDB backend.\n",
    "# Make sure your stack is configure with the right info\n",
    "# e.g\n",
    "# $ cat stack/.env | grep \"STACK_MOSAIC\"\n",
    "# STACK_MOSAIC_BACKEND=dynamodb://\n",
    "# STACK_MOSAIC_HOST=us-west-2/mymosaictable\n",
    "\n",
    "# Name of the mosaic (== layer in titiler)\n",
    "mosaic_name = \"naip.2016_2018\"\n",
    "\n",
    "# EDIT THIS. by default cogeo-mosaic will create the DynamoDB table (billing mode set to PAY_PER_REQUEST).\n",
    "# You can also use a pre-created table of yours as long that it follows the schema:\n",
    "# https://github.com/developmentseed/cogeo-mosaic/blob/newDynamoDBschema/cogeo_mosaic/backends/dynamodb.py#L182-L191\n",
    "table_name = \"mymosaictable\"\n",
    "\n",
    "# NAIP, Sentinel-2 and Landsat is stored in us-west-2, so it makes sense to deploy titiler in us-west-2 and also to store the dynamoDB table there\n",
    "region = \"us-west-2\"\n",
    "\n",
    "# 1. Read mosaic json from Kyle\n",
    "with MosaicBackend(url) as src_mosaic:\n",
    "    \n",
    "    # 2. use MosaicBackend to write the mosaic to dynamoDB\n",
    "    with MosaicBackend(\n",
    "        f\"dynamodb://{region}{table_name}:{mosaic_name}\",\n",
    "        mosaic_def=src_mosaic.mosaic_def\n",
    "    ) as dst_mosaic:\n",
    "        dst_mosaic.write()"
   ]
  },
  {
   "cell_type": "code",
   "execution_count": null,
   "metadata": {},
   "outputs": [],
   "source": [
    "# Endpoint variables\n",
    "titiler_endpoint = \"{ENDPOINT}\"\n",
    "\n",
    "# Make sure both are up\n",
    "assert requests.get(f\"{titiler_endpoint}/docs\").status_code == 200"
   ]
  },
  {
   "cell_type": "code",
   "execution_count": null,
   "metadata": {},
   "outputs": [],
   "source": [
    "r = requests.get(f\"{titiler_endpoint}/mosaicjson/naip/info?layer={mosaic_name}\").json()\n",
    "print(r)"
   ]
  },
  {
   "cell_type": "code",
   "execution_count": null,
   "metadata": {},
   "outputs": [],
   "source": [
    "r = requests.get(f\"{titiler_endpoint}/mosaicjson/naip/tilejson.json?layer={mosaic_name}&bidx=1,2,3\").json()\n",
    "print(r)"
   ]
  },
  {
   "cell_type": "code",
   "execution_count": null,
   "metadata": {
    "scrolled": false,
    "tags": []
   },
   "outputs": [],
   "source": [
    "bounds = r[\"bounds\"]\n",
    "m = Map(\n",
    "    center=((bounds[1] + bounds[3]) / 2,(bounds[0] + bounds[2]) / 2),\n",
    "    zoom=r[\"minzoom\"]\n",
    ")\n",
    "\n",
    "tiles = TileLayer(\n",
    "    url=r[\"tiles\"][0],\n",
    "    min_zoom=r[\"minzoom\"],\n",
    "    max_zoom=r[\"maxzoom\"],\n",
    "    opacity=1\n",
    ")\n",
    "m.add_layer(tiles)\n",
    "m"
   ]
  }
 ],
 "metadata": {
  "kernelspec": {
   "display_name": "Python 3",
   "language": "python",
   "name": "python3"
  },
  "language_info": {
   "codemirror_mode": {
    "name": "ipython",
    "version": 3
   },
   "file_extension": ".py",
   "mimetype": "text/x-python",
   "name": "python",
   "nbconvert_exporter": "python",
   "pygments_lexer": "ipython3",
   "version": "3.7.4-final"
  }
 },
 "nbformat": 4,
 "nbformat_minor": 2
}