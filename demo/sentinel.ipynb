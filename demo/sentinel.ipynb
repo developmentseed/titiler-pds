{
 "cells": [
  {
   "cell_type": "markdown",
   "metadata": {},
   "source": [
    "## 3. Search Data"
   ]
  },
  {
   "cell_type": "code",
   "execution_count": 4,
   "metadata": {
    "tags": []
   },
   "outputs": [
    {
     "output_type": "stream",
     "name": "stdout",
     "text": "Populating the interactive namespace from numpy and matplotlib\n"
    }
   ],
   "source": [
    "import os\n",
    "import json\n",
    "import requests\n",
    "\n",
    "from rasterio.features import bounds as featureBounds\n",
    "\n",
    "from ipyleaflet import Map, basemaps, TileLayer, basemap_to_tiles, GeoJSON\n",
    "\n",
    "%pylab inline"
   ]
  },
  {
   "cell_type": "code",
   "execution_count": 5,
   "metadata": {},
   "outputs": [],
   "source": [
    "# Endpoint variables\n",
    "titiler_endpoint = \"{ENDPOINT}\"\n",
    "stac_endpoint = \"https://earth-search.aws.element84.com/v0/search\"\n",
    "\n",
    "# Make sure both are up\n",
    "assert requests.get(f\"{titiler_endpoint}/docs\").status_code == 200\n",
    "assert requests.get(stac_endpoint).status_code == 200"
   ]
  },
  {
   "cell_type": "markdown",
   "metadata": {},
   "source": [
    "More info: https://github.com/radiantearth/stac-api-spec for more documentation about the stac API\n",
    "\n",
    "1. AOI\n",
    "\n",
    "You can use geojson.io to define your search AOI"
   ]
  },
  {
   "cell_type": "code",
   "execution_count": 6,
   "metadata": {},
   "outputs": [
    {
     "output_type": "display_data",
     "data": {
      "text/plain": "Map(center=[6.191134014061623, -0.3570556640625], controls=(ZoomControl(options=[&#39;position&#39;, &#39;zoom_in_text&#39;, &#39;…",
      "application/vnd.jupyter.widget-view+json": {
       "version_major": 2,
       "version_minor": 0,
       "model_id": "12a226543bc2499c899805572e6d51ea"
      }
     },
     "metadata": {}
    }
   ],
   "source": [
    "geojson = {\n",
    "  \"type\": \"FeatureCollection\",\n",
    "  \"features\": [\n",
    "    {\n",
    "      \"type\": \"Feature\",\n",
    "      \"properties\": {},\n",
    "      \"geometry\": {\n",
    "        \"type\": \"Polygon\",\n",
    "        \"coordinates\": [\n",
    "          [\n",
    "            [\n",
    "              -2.83447265625,\n",
    "              4.12728532324537\n",
    "            ],\n",
    "            [\n",
    "              2.120361328125,\n",
    "              4.12728532324537\n",
    "            ],\n",
    "            [\n",
    "              2.120361328125,\n",
    "              8.254982704877875\n",
    "            ],\n",
    "            [\n",
    "              -2.83447265625,\n",
    "              8.254982704877875\n",
    "            ],\n",
    "            [\n",
    "              -2.83447265625,\n",
    "              4.12728532324537\n",
    "            ]\n",
    "          ]\n",
    "        ]\n",
    "      }\n",
    "    }\n",
    "  ]\n",
    "}\n",
    "\n",
    "bounds = featureBounds(geojson)\n",
    "\n",
    "m = Map(\n",
    "    basemap=basemaps.OpenStreetMap.Mapnik,\n",
    "    center=((bounds[1] + bounds[3]) / 2,(bounds[0] + bounds[2]) / 2),\n",
    "    zoom=6\n",
    ")\n",
    "\n",
    "geo_json = GeoJSON(data=geojson)\n",
    "m.add_layer(geo_json)\n",
    "m"
   ]
  },
  {
   "cell_type": "markdown",
   "metadata": {},
   "source": [
    "2. Define dates and other filters"
   ]
  },
  {
   "cell_type": "code",
   "execution_count": 7,
   "metadata": {
    "scrolled": false,
    "tags": []
   },
   "outputs": [
    {
     "output_type": "stream",
     "name": "stdout",
     "text": "Results context:\n{&#39;page&#39;: 1, &#39;limit&#39;: 1000, &#39;matched&#39;: 408, &#39;returned&#39;: 408}\n"
    }
   ],
   "source": [
    "start = datetime.datetime.strptime(\"2019-01-01\", \"%Y-%m-%d\").strftime(\"%Y-%m-%dT00:00:00Z\")\n",
    "end = datetime.datetime.strptime(\"2019-12-11\", \"%Y-%m-%d\").strftime(\"%Y-%m-%dT23:59:59Z\")\n",
    "\n",
    "# POST body\n",
    "query = {\n",
    "    \"collections\": [\"sentinel-s2-l2a-cogs\"],\n",
    "    \"datetime\": f\"{start}/{end}\",\n",
    "    \"query\": {\n",
    "        \"eo:cloud_cover\": {\n",
    "            \"lt\": 3\n",
    "        },\n",
    "        \"sentinel:data_coverage\": {\n",
    "            \"gt\": 10\n",
    "        }\n",
    "    },\n",
    "    \"intersects\": geojson[\"features\"][0][\"geometry\"],\n",
    "    \"limit\": 1000,\n",
    "    \"fields\": {\n",
    "      'include': ['id', 'properties.datetime', 'properties.eo:cloud_cover'],  # This will limit the size of returned body\n",
    "      'exclude': ['assets', 'links']  # This will limit the size of returned body\n",
    "    },\n",
    "    \"sortby\": [\n",
    "        {\n",
    "            \"field\": \"properties.eo:cloud_cover\",\n",
    "            \"direction\": \"desc\"\n",
    "        },\n",
    "    ]\n",
    "}\n",
    "\n",
    "# POST Headers\n",
    "headers = {\n",
    "    \"Content-Type\": \"application/json\",\n",
    "    \"Accept-Encoding\": \"gzip\",\n",
    "    \"Accept\": \"application/geo+json\",\n",
    "}\n",
    "\n",
    "data = requests.post(stac_endpoint, headers=headers, json=query).json()\n",
    "print(\"Results context:\")\n",
    "print(data[\"context\"])\n",
    "\n",
    "sceneid = [f[\"id\"] for f in data[\"features\"]]\n",
    "cloudcover = [f[\"properties\"][\"eo:cloud_cover\"] for f in data[\"features\"]]\n",
    "dates = [f[\"properties\"][\"datetime\"][0:10] for f in data[\"features\"]]"
   ]
  },
  {
   "cell_type": "code",
   "execution_count": 92,
   "metadata": {},
   "outputs": [
    {
     "data": {
      "text/plain": [
       "{'bbox': [0.2927641695171779,\n",
       "  4.429965030479934,\n",
       "  1.2856914562725514,\n",
       "  5.4257779507944806],\n",
       " 'geometry': {'coordinates': [[[0.2967780962947474, 4.429965030479934],\n",
       "    [0.2927641695171779, 5.422153918603194],\n",
       "    [1.28314366979741, 5.4257779507944806],\n",
       "    [1.2856914562725514, 4.43292307525344],\n",
       "    [0.2967780962947474, 4.429965030479934]]],\n",
       "  'type': 'Polygon'},\n",
       " 'id': 'S2B_31NBF_20190109_0_L2A',\n",
       " 'collection': 'sentinel-s2-l2a-cogs',\n",
       " 'type': 'Feature',\n",
       " 'properties': {'datetime': '2019-01-09T10:29:38Z', 'eo:cloud_cover': 2.98}}"
      ]
     },
     "execution_count": 92,
     "metadata": {},
     "output_type": "execute_result"
    }
   ],
   "source": [
    "data[\"features\"][0]"
   ]
  },
  {
   "cell_type": "code",
   "execution_count": 8,
   "metadata": {
    "scrolled": false
   },
   "outputs": [
    {
     "output_type": "display_data",
     "data": {
      "text/plain": "Map(center=[6.191134014061623, -0.3570556640625], controls=(ZoomControl(options=[&#39;position&#39;, &#39;zoom_in_text&#39;, &#39;…",
      "application/vnd.jupyter.widget-view+json": {
       "version_major": 2,
       "version_minor": 0,
       "model_id": "5c5bbda5c3124857a2a63bf21df973ae"
      }
     },
     "metadata": {}
    }
   ],
   "source": [
    "m = Map(\n",
    "    basemap=basemaps.OpenStreetMap.Mapnik,\n",
    "    center=((bounds[1] + bounds[3]) / 2,(bounds[0] + bounds[2]) / 2),\n",
    "    zoom=8\n",
    ")\n",
    "\n",
    "geo_json = GeoJSON(\n",
    "    data=data,\n",
    "    style={\n",
    "        'opacity': 1, 'dashArray': '1', 'fillOpacity': 0, 'weight': 1\n",
    "    },\n",
    ")\n",
    "m.add_layer(geo_json)\n",
    "m"
   ]
  },
  {
   "cell_type": "code",
   "execution_count": 94,
   "metadata": {},
   "outputs": [
    {
     "name": "stdout",
     "output_type": "stream",
     "text": [
      "('B01', 'B02', 'B03', 'B04', 'B05', 'B06', 'B07', 'B08', 'B09', 'B11', 'B12', 'B8A')\n"
     ]
    }
   ],
   "source": [
    "# Print what band are available\n",
    "from rio_tiler_pds.sentinel.aws.sentinel2 import default_l2a_bands\n",
    "print(default_l2a_bands)"
   ]
  },
  {
   "cell_type": "code",
   "execution_count": 11,
   "metadata": {
    "tags": []
   },
   "outputs": [
    {
     "output_type": "stream",
     "name": "stdout",
     "text": "S2B_31NCG_20190926_0_L2A\n{&#39;tilejson&#39;: &#39;2.2.0&#39;, &#39;name&#39;: &#39;S2B_31NCG_20190926_0_L2A&#39;, &#39;version&#39;: &#39;1.0.0&#39;, &#39;scheme&#39;: &#39;xyz&#39;, &#39;tiles&#39;: [&#39;https://c50qa6bhpe.execute-api.us-west-2.amazonaws.com/sentinel/tiles/WebMercatorQuad/{z}/{x}/{y}@1x?sceneid=S2B_31NCG_20190926_0_L2A&amp;bands=B04%2CB03%2CB02&amp;rescale=0%2C2000&#39;], &#39;minzoom&#39;: 8, &#39;maxzoom&#39;: 14, &#39;bounds&#39;: [1.1920033127639242, 5.337108286531346, 2.1859046942193197, 6.332392577649882], &#39;center&#39;: [1.688954003491622, 5.834750432090614, 8]}\n"
    }
   ],
   "source": [
    "# Fetch TileJSON\n",
    "# For this example we use the first `sceneid` return from the STAC API\n",
    "# and we sent the Bands to B04,B03,B02 which are red,green,blue\n",
    "print(sceneid[4])\n",
    "data = requests.get(f\"{titiler_endpoint}/scenes/sentinel/tilejson.json?sceneid={sceneid[4]}&bands=B04,B03,B02&rescale=0,2000\").json()\n",
    "print(data)"
   ]
  },
  {
   "cell_type": "code",
   "execution_count": 12,
   "metadata": {
    "scrolled": false,
    "tags": []
   },
   "outputs": [
    {
     "output_type": "display_data",
     "data": {
      "text/plain": "Map(center=[5.834750432090614, 1.688954003491622], controls=(ZoomControl(options=[&#39;position&#39;, &#39;zoom_in_text&#39;, …",
      "application/vnd.jupyter.widget-view+json": {
       "version_major": 2,
       "version_minor": 0,
       "model_id": "ebbdbeec3d08427a9d7e31f503ccd214"
      }
     },
     "metadata": {}
    }
   ],
   "source": [
    "bounds = data[\"bounds\"]\n",
    "m = Map(\n",
    "    center=((bounds[1] + bounds[3]) / 2,(bounds[0] + bounds[2]) / 2),\n",
    "    zoom=10\n",
    ")\n",
    "\n",
    "tiles = TileLayer(\n",
    "    url=data[\"tiles\"][0],\n",
    "    min_zoom=data[\"minzoom\"],\n",
    "    max_zoom=data[\"maxzoom\"],\n",
    "    opacity=1\n",
    ")\n",
    "m.add_layer(tiles)\n",
    "m"
   ]
  },
  {
   "cell_type": "code",
   "execution_count": null,
   "metadata": {},
   "outputs": [],
   "source": []
  }
 ],
 "metadata": {
  "kernelspec": {
   "display_name": "Python 3",
   "language": "python",
   "name": "python3"
  },
  "language_info": {
   "codemirror_mode": {
    "name": "ipython",
    "version": 3
   },
   "file_extension": ".py",
   "mimetype": "text/x-python",
   "name": "python",
   "nbconvert_exporter": "python",
   "pygments_lexer": "ipython3",
   "version": "3.7.4-final"
  }
 },
 "nbformat": 4,
 "nbformat_minor": 2
}