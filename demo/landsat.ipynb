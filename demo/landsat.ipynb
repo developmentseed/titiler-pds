{
 "cells": [
  {
   "cell_type": "markdown",
   "metadata": {},
   "source": [
    "## 3. Search Data"
   ]
  },
  {
   "cell_type": "code",
   "execution_count": 1,
   "metadata": {
    "tags": []
   },
   "outputs": [
    {
     "output_type": "stream",
     "name": "stdout",
     "text": "Populating the interactive namespace from numpy and matplotlib\n"
    }
   ],
   "source": [
    "import os\n",
    "import json\n",
    "import requests\n",
    "\n",
    "from rasterio.features import bounds as featureBounds\n",
    "\n",
    "from ipyleaflet import Map, basemaps, TileLayer, basemap_to_tiles, GeoJSON\n",
    "\n",
    "%pylab inline"
   ]
  },
  {
   "cell_type": "code",
   "execution_count": 2,
   "metadata": {},
   "outputs": [],
   "source": [
    "# Endpoint variables\n",
    "titiler_endpoint = \"{ENDPOINT}\"\n",
    "stac_endpoint = \"https://earth-search.aws.element84.com/v0/search\"\n",
    "\n",
    "# Make sure both are up\n",
    "assert requests.get(f\"{titiler_endpoint}/docs\").status_code == 200\n",
    "assert requests.get(stac_endpoint).status_code == 200"
   ]
  },
  {
   "cell_type": "markdown",
   "metadata": {},
   "source": [
    "More info: https://github.com/radiantearth/stac-api-spec for more documentation about the stac API\n",
    "\n",
    "1. AOI\n",
    "\n",
    "You can use geojson.io to define your search AOI"
   ]
  },
  {
   "cell_type": "code",
   "execution_count": 3,
   "metadata": {},
   "outputs": [
    {
     "output_type": "display_data",
     "data": {
      "text/plain": "Map(center=[6.191134014061623, -0.3570556640625], controls=(ZoomControl(options=[&#39;position&#39;, &#39;zoom_in_text&#39;, &#39;…",
      "application/vnd.jupyter.widget-view+json": {
       "version_major": 2,
       "version_minor": 0,
       "model_id": "8d579a5c6b284df8905c86da08a56cf0"
      }
     },
     "metadata": {}
    }
   ],
   "source": [
    "geojson = {\n",
    "  \"type\": \"FeatureCollection\",\n",
    "  \"features\": [\n",
    "    {\n",
    "      \"type\": \"Feature\",\n",
    "      \"properties\": {},\n",
    "      \"geometry\": {\n",
    "        \"type\": \"Polygon\",\n",
    "        \"coordinates\": [\n",
    "          [\n",
    "            [\n",
    "              -2.83447265625,\n",
    "              4.12728532324537\n",
    "            ],\n",
    "            [\n",
    "              2.120361328125,\n",
    "              4.12728532324537\n",
    "            ],\n",
    "            [\n",
    "              2.120361328125,\n",
    "              8.254982704877875\n",
    "            ],\n",
    "            [\n",
    "              -2.83447265625,\n",
    "              8.254982704877875\n",
    "            ],\n",
    "            [\n",
    "              -2.83447265625,\n",
    "              4.12728532324537\n",
    "            ]\n",
    "          ]\n",
    "        ]\n",
    "      }\n",
    "    }\n",
    "  ]\n",
    "}\n",
    "\n",
    "bounds = featureBounds(geojson)\n",
    "\n",
    "m = Map(\n",
    "    basemap=basemaps.OpenStreetMap.Mapnik,\n",
    "    center=((bounds[1] + bounds[3]) / 2,(bounds[0] + bounds[2]) / 2),\n",
    "    zoom=6\n",
    ")\n",
    "\n",
    "geo_json = GeoJSON(data=geojson)\n",
    "m.add_layer(geo_json)\n",
    "m"
   ]
  },
  {
   "cell_type": "markdown",
   "metadata": {},
   "source": [
    "2. Define dates and other filters"
   ]
  },
  {
   "cell_type": "code",
   "execution_count": 6,
   "metadata": {
    "scrolled": false,
    "tags": []
   },
   "outputs": [
    {
     "output_type": "stream",
     "name": "stdout",
     "text": "Results context:\n{&#39;page&#39;: 1, &#39;limit&#39;: 1000, &#39;matched&#39;: 1676, &#39;returned&#39;: 1000}\n"
    }
   ],
   "source": [
    "\n",
    "# POST body\n",
    "query = {\n",
    "    \"collections\": [\"landsat-8-l1-c1\"],\n",
    "    \"query\": {\n",
    "        \"eo:cloud_cover\": {\n",
    "            \"lt\": 3\n",
    "        },\n",
    "    },\n",
    "    \"limit\": 1000,\n",
    "    \"fields\": {\n",
    "      'include': ['id', 'properties.datetime', 'properties.eo:cloud_cover'],  # This will limit the size of returned body\n",
    "      'exclude': ['assets', 'links']  # This will limit the size of returned body\n",
    "    },\n",
    "    \"sortby\": [\n",
    "        {\n",
    "            \"field\": \"properties.eo:cloud_cover\",\n",
    "            \"direction\": \"desc\"\n",
    "        },\n",
    "    ]\n",
    "}\n",
    "\n",
    "# POST Headers\n",
    "headers = {\n",
    "    \"Content-Type\": \"application/json\",\n",
    "    \"Accept-Encoding\": \"gzip\",\n",
    "    \"Accept\": \"application/geo+json\",\n",
    "}\n",
    "\n",
    "data = requests.post(stac_endpoint, headers=headers, json=query).json()\n",
    "print(\"Results context:\")\n",
    "print(data[\"context\"])\n",
    "\n",
    "sceneid = [f[\"id\"] for f in data[\"features\"]]\n",
    "cloudcover = [f[\"properties\"][\"eo:cloud_cover\"] for f in data[\"features\"]]\n",
    "dates = [f[\"properties\"][\"datetime\"][0:10] for f in data[\"features\"]]"
   ]
  },
  {
   "cell_type": "code",
   "execution_count": 7,
   "metadata": {},
   "outputs": [
    {
     "output_type": "execute_result",
     "data": {
      "text/plain": "{&#39;bbox&#39;: [17.52159, 37.79375, 20.29877, 39.99183],\n &#39;geometry&#39;: {&#39;coordinates&#39;: [[[18.11632174572913, 39.99120072125492],\n    [20.295303143374994, 39.543111151569946],\n    [19.70135355249007, 37.79500906248807],\n    [17.524595993314055, 38.249780621426254],\n    [18.11632174572913, 39.99120072125492]]],\n  &#39;type&#39;: &#39;Polygon&#39;},\n &#39;id&#39;: &#39;LC08_L1TP_186033_20200913_20200920_01_T1&#39;,\n &#39;collection&#39;: &#39;landsat-8-l1-c1&#39;,\n &#39;type&#39;: &#39;Feature&#39;,\n &#39;properties&#39;: {&#39;datetime&#39;: &#39;2020-09-13T09:23:30.572134Z&#39;,\n  &#39;eo:cloud_cover&#39;: 2.98}}"
     },
     "metadata": {},
     "execution_count": 7
    }
   ],
   "source": [
    "data[\"features\"][0]"
   ]
  },
  {
   "cell_type": "code",
   "execution_count": 8,
   "metadata": {
    "scrolled": false
   },
   "outputs": [
    {
     "output_type": "display_data",
     "data": {
      "text/plain": "Map(center=[38.892790000000005, 18.91018], controls=(ZoomControl(options=[&#39;position&#39;, &#39;zoom_in_text&#39;, &#39;zoom_in…",
      "application/vnd.jupyter.widget-view+json": {
       "version_major": 2,
       "version_minor": 0,
       "model_id": "c583ef685dae424da0b847c210222006"
      }
     },
     "metadata": {}
    }
   ],
   "source": [
    "bounds = data[\"features\"][0][\"bbox\"]\n",
    "\n",
    "m = Map(\n",
    "    basemap=basemaps.OpenStreetMap.Mapnik,\n",
    "    center=((bounds[1] + bounds[3]) / 2,(bounds[0] + bounds[2]) / 2),\n",
    "    zoom=8\n",
    ")\n",
    "\n",
    "geo_json = GeoJSON(\n",
    "    data=data,\n",
    "    style={\n",
    "        'opacity': 1, 'dashArray': '1', 'fillOpacity': 0, 'weight': 1\n",
    "    },\n",
    ")\n",
    "m.add_layer(geo_json)\n",
    "m"
   ]
  },
  {
   "cell_type": "code",
   "execution_count": 9,
   "metadata": {
    "tags": []
   },
   "outputs": [
    {
     "output_type": "stream",
     "name": "stdout",
     "text": "(&#39;B1&#39;, &#39;B2&#39;, &#39;B3&#39;, &#39;B4&#39;, &#39;B5&#39;, &#39;B6&#39;, &#39;B7&#39;, &#39;B8&#39;, &#39;B9&#39;, &#39;B10&#39;, &#39;B11&#39;, &#39;BQA&#39;)\n"
    }
   ],
   "source": [
    "# Print what band are available\n",
    "from rio_tiler_pds.landsat.aws.landsat8 import landsat8_valid_bands\n",
    "print(landsat8_valid_bands)"
   ]
  },
  {
   "cell_type": "code",
   "execution_count": 14,
   "metadata": {
    "tags": []
   },
   "outputs": [
    {
     "output_type": "stream",
     "name": "stdout",
     "text": "LC08_L1TP_146032_20200905_20200917_01_T1\n{&#39;tilejson&#39;: &#39;2.2.0&#39;, &#39;name&#39;: &#39;LC08_L1TP_146032_20200905_20200917_01_T1&#39;, &#39;version&#39;: &#39;1.0.0&#39;, &#39;scheme&#39;: &#39;xyz&#39;, &#39;tiles&#39;: [&#39;https://c50qa6bhpe.execute-api.us-west-2.amazonaws.com/landsat/tiles/WebMercatorQuad/{z}/{x}/{y}@1x?sceneid=LC08_L1TP_146032_20200905_20200917_01_T1&amp;bands=B4%2CB3%2CB2&amp;rescale=0%2C5000&#39;], &#39;minzoom&#39;: 7, &#39;maxzoom&#39;: 12, &#39;bounds&#39;: [79.7992, 39.25692, 82.57623, 41.38507], &#39;center&#39;: [81.187715, 40.320994999999996, 7]}\n"
    }
   ],
   "source": [
    "# Fetch TileJSON\n",
    "# For this example we use the first `sceneid` return from the STAC API\n",
    "# and we sent the Bands to B04,B03,B02 which are red,green,blue\n",
    "print(sceneid[4])\n",
    "data = requests.get(f\"{titiler_endpoint}/scenes/landsat/tilejson.json?sceneid={sceneid[4]}&bands=B4,B3,B2&rescale=0,5000\").json()\n",
    "print(data)"
   ]
  },
  {
   "cell_type": "code",
   "execution_count": 15,
   "metadata": {
    "scrolled": false,
    "tags": []
   },
   "outputs": [
    {
     "output_type": "display_data",
     "data": {
      "text/plain": "Map(center=[40.320994999999996, 81.187715], controls=(ZoomControl(options=[&#39;position&#39;, &#39;zoom_in_text&#39;, &#39;zoom_i…",
      "application/vnd.jupyter.widget-view+json": {
       "version_major": 2,
       "version_minor": 0,
       "model_id": "e69739e005114b7f83db32fa2bbe5422"
      }
     },
     "metadata": {}
    }
   ],
   "source": [
    "bounds = data[\"bounds\"]\n",
    "m = Map(\n",
    "    center=((bounds[1] + bounds[3]) / 2,(bounds[0] + bounds[2]) / 2),\n",
    "    zoom=10\n",
    ")\n",
    "\n",
    "tiles = TileLayer(\n",
    "    url=data[\"tiles\"][0],\n",
    "    min_zoom=data[\"minzoom\"],\n",
    "    max_zoom=data[\"maxzoom\"],\n",
    "    opacity=1\n",
    ")\n",
    "m.add_layer(tiles)\n",
    "m"
   ]
  },
  {
   "cell_type": "code",
   "execution_count": null,
   "metadata": {},
   "outputs": [],
   "source": []
  }
 ],
 "metadata": {
  "kernelspec": {
   "display_name": "Python 3",
   "language": "python",
   "name": "python3"
  },
  "language_info": {
   "codemirror_mode": {
    "name": "ipython",
    "version": 3
   },
   "file_extension": ".py",
   "mimetype": "text/x-python",
   "name": "python",
   "nbconvert_exporter": "python",
   "pygments_lexer": "ipython3",
   "version": "3.7.4-final"
  }
 },
 "nbformat": 4,
 "nbformat_minor": 2
}